{
  "cells": [
    {
      "cell_type": "markdown",
      "id": "TB6u9bCqUvGl",
      "metadata": {
        "id": "TB6u9bCqUvGl"
      },
      "source": [
        "# Nuclear Calculations\n",
        "\n",
        "This notebook can be used for all types of nuclear calculations.  It uses the [AME2016](https://www-nds.iaea.org/amdc/) dataset for accurate mass values.\n",
        "\n",
        "## Getting started\n",
        "\n",
        "The first thing to do is to run the cell directly below this one to load the data from the server."
      ]
    },
    {
      "cell_type": "code",
      "execution_count": 29,
      "id": "small-embassy",
      "metadata": {
        "id": "small-embassy"
      },
      "outputs": [],
      "source": [
        "from NuclearData import NuclearData\n",
        "nd = NuclearData(accurate=False)\n",
        "from collections import namedtuple\n",
        "Nucleus = namedtuple('Nucleus', ['A', 'Z'])"
      ]
    },
    {
      "cell_type": "markdown",
      "id": "7iT3imTIUvGu",
      "metadata": {
        "id": "7iT3imTIUvGu"
      },
      "source": [
        "Now that the data is in the notebook you can use it to perform calcuations.  I have used the physical constants in the [OCR Physics A databook](https://www.ocr.org.uk/Images/363796-units-h156-and-h556-data-formulae-and-relationships-booklet.pdf).  However, if you want to be super accurate you can rerun the cell above with the option:  \n",
        "\n",
        "```\n",
        "nd = NuclearData(accurate=True)\n",
        "```\n",
        "\n",
        "You can see the constants at any time by running the cell below."
      ]
    },
    {
      "cell_type": "code",
      "execution_count": 30,
      "id": "GjrcvE-IUvGv",
      "metadata": {
        "id": "GjrcvE-IUvGv",
        "outputId": "1beddd40-184a-4126-fea7-3e0d874e5125"
      },
      "outputs": [
        {
          "name": "stdout",
          "output_type": "stream",
          "text": [
            "----------------------------------------------------\n",
            "Quantity                            Value         \n",
            "----------------------------------------------------\n",
            "AMU                                 1.661e-27     \n",
            "mass of electron /u                 5.485e-04     \n",
            "mass of proton / u                  1.0072        \n",
            "mass of neutron / u                 1.0084        \n",
            "speed of light / m/s                3.00e+08      \n",
            "electron charge / C                 1.60e-19      \n",
            "amu to MeV                          934.313       \n",
            "----------------------------------------------------\n"
          ]
        }
      ],
      "source": [
        "nd.printConstants()"
      ]
    },
    {
      "cell_type": "markdown",
      "id": "6DrFwFtQUvGw",
      "metadata": {
        "id": "6DrFwFtQUvGw"
      },
      "source": [
        "## Getting nuclear data\n",
        "\n",
        "To see the data for a particular atom just enter the A and Z values as in the next cell and press run. "
      ]
    },
    {
      "cell_type": "code",
      "execution_count": 31,
      "id": "UHuURctfUvGx",
      "metadata": {
        "id": "UHuURctfUvGx",
        "outputId": "93517565-610d-4ca4-e8ff-e494e3ab62af"
      },
      "outputs": [
        {
          "name": "stdout",
          "output_type": "stream",
          "text": [
            "----------------------------------------------------\n",
            "Quantity                            Value         \n",
            "----------------------------------------------------\n",
            "Element                             Po            \n",
            "Proton Number                       84            \n",
            "Nucleon Number                      218           \n",
            "Neutron Number                      134           \n",
            "Atomic Mass / u                     218.00897150  \n",
            "Atomic Mas / kg                     3.6211290166e-25\n",
            "Nuclear Mass / u                    217.96289750  \n",
            "Nuclear Mass / kg                   3.62036373e-25\n",
            "Mass Defect / u                     1.76750250    \n",
            "Mass Defect / kg                    2.93582165e-27\n",
            "Binding Energy / MeV                1651.39967766 \n",
            "Binding Energy / J                  2.64223948e-10\n",
            "Binding Energy per Nucleon / MeV    7.57522788    \n",
            "Binding Energy per Nucleon / J      1.21203646e-12\n",
            "----------------------------------------------------\n"
          ]
        }
      ],
      "source": [
        "nd.printTableAll(Nucleus(218,84))"
      ]
    },
    {
      "cell_type": "markdown",
      "id": "tKTHsvK-UvGx",
      "metadata": {
        "id": "tKTHsvK-UvGx"
      },
      "source": [
        "You can show the binding energy per nucleon from the data set and the total binding energy."
      ]
    },
    {
      "cell_type": "code",
      "execution_count": 32,
      "id": "16BkG6yPUvGy",
      "metadata": {
        "id": "16BkG6yPUvGy",
        "outputId": "18992b21-56dd-40fd-c67a-b4394cb48704"
      },
      "outputs": [
        {
          "data": {
            "image/png": "[encoded data removed]",
            "text/plain": [
              "<Figure size 432x288 with 2 Axes>"
            ]
          },
          "metadata": {
            "needs_background": "light"
          },
          "output_type": "display_data"
        }
      ],
      "source": [
        "nd.printGraph()"
      ]
    },
    {
      "cell_type": "markdown",
      "id": "YGnqP65nUvGy",
      "metadata": {
        "id": "YGnqP65nUvGy"
      },
      "source": [
        "Here's some more data, this time for Thorium-228"
      ]
    },
    {
      "cell_type": "code",
      "execution_count": 33,
      "id": "rQ9Bb_0zUvGz",
      "metadata": {
        "id": "rQ9Bb_0zUvGz",
        "outputId": "117cdcf1-e962-4a76-d19e-f6cad435f14d"
      },
      "outputs": [
        {
          "name": "stdout",
          "output_type": "stream",
          "text": [
            "----------------------------------------------------\n",
            "Quantity                            Value         \n",
            "----------------------------------------------------\n",
            "Element                             Th            \n",
            "Proton Number                       90            \n",
            "Nucleon Number                      228           \n",
            "Neutron Number                      138           \n",
            "Atomic Mass / u                     228.02873984  \n",
            "Nuclear Mass / u                    227.97937484  \n",
            "Mass Defect / u                     1.82782517    \n",
            "Binding Energy / MeV                1707.75989947 \n",
            "Binding Energy per Nucleon / MeV    7.49017500    \n",
            "----------------------------------------------------\n"
          ]
        }
      ],
      "source": [
        "nd.printTable(Nucleus(A=228, Z=90))"
      ]
    },
    {
      "cell_type": "markdown",
      "id": "2lcj36dyUvG0",
      "metadata": {
        "id": "2lcj36dyUvG0"
      },
      "source": [
        "## Nuclear decay energies\n",
        "\n",
        "You can also calculate alpha and beta decay energies.  Here's the energy released by the decay of Thorium-228 and Bismuth-210."
      ]
    },
    {
      "cell_type": "code",
      "execution_count": 34,
      "id": "5fc_zc1iUvG0",
      "metadata": {
        "id": "5fc_zc1iUvG0",
        "outputId": "718a4507-ae9f-41f1-d6e7-cf7798dcb863"
      },
      "outputs": [
        {
          "name": "stdout",
          "output_type": "stream",
          "text": [
            "Energy Release (MeV) = -5.5369       \n"
          ]
        }
      ],
      "source": [
        "nd.printAlphaEnergyReleaseMeV(Nucleus(A=228, Z=90))"
      ]
    },
    {
      "cell_type": "code",
      "execution_count": 35,
      "id": "xvv1kzpfUvG1",
      "metadata": {
        "id": "xvv1kzpfUvG1",
        "outputId": "6151898e-a3c7-4a34-e4f3-c29fa9a0f07f"
      },
      "outputs": [
        {
          "name": "stdout",
          "output_type": "stream",
          "text": [
            "Energy Release (MeV) = -1.1647       \n"
          ]
        }
      ],
      "source": [
        "nd.printBetaEnergyReleaseMeV(Nucleus(A=210, Z=83))"
      ]
    },
    {
      "cell_type": "markdown",
      "id": "5Hpg0xS1UvG1",
      "metadata": {
        "id": "5Hpg0xS1UvG1"
      },
      "source": [
        "It will calculate the alpha particle energy and speed too."
      ]
    },
    {
      "cell_type": "code",
      "execution_count": 36,
      "id": "GJO4x5LFUvG1",
      "metadata": {
        "id": "GJO4x5LFUvG1",
        "outputId": "998f149d-643e-44f7-cae1-64ce28ec005d"
      },
      "outputs": [
        {
          "name": "stdout",
          "output_type": "stream",
          "text": [
            "Alpha KE (MeV) = 5.4397        \n"
          ]
        }
      ],
      "source": [
        "nd.printAlphaEnergyMeV(Nucleus(A=228, Z=90))"
      ]
    },
    {
      "cell_type": "code",
      "execution_count": 37,
      "id": "4DcJbCSYUvG2",
      "metadata": {
        "id": "4DcJbCSYUvG2",
        "outputId": "5848bf48-af34-4256-bbf2-26f880fca222"
      },
      "outputs": [
        {
          "name": "stdout",
          "output_type": "stream",
          "text": [
            "Alpha KE (J) = 8.7035e-13    \n"
          ]
        }
      ],
      "source": [
        "nd.printAlphaEnergyJ(Nucleus(A=228, Z=90))"
      ]
    },
    {
      "cell_type": "code",
      "execution_count": 38,
      "id": "OxnPqim4UvG2",
      "metadata": {
        "id": "OxnPqim4UvG2",
        "outputId": "335f3427-c986-4e0b-88da-2959caca69b6"
      },
      "outputs": [
        {
          "name": "stdout",
          "output_type": "stream",
          "text": [
            "Alpha Speed (m/s) = 1.6183e+07    \n"
          ]
        }
      ],
      "source": [
        "nd.printAlphaSpeed(Nucleus(A=228, Z=90))"
      ]
    },
    {
      "cell_type": "markdown",
      "id": "zgsrhgo1UvG3",
      "metadata": {
        "id": "zgsrhgo1UvG3"
      },
      "source": [
        "For beta particles the speed has to be calculated from relativistic equations, so this might not be one to get pupils to do.\n"
      ]
    },
    {
      "cell_type": "code",
      "execution_count": 39,
      "id": "voYaHx5EUvG3",
      "metadata": {
        "id": "voYaHx5EUvG3",
        "outputId": "cd72a44d-cf20-411f-a9ac-ab0497b3abdf"
      },
      "outputs": [
        {
          "name": "stdout",
          "output_type": "stream",
          "text": [
            "Beta KE (MeV) =  1.1647        \n"
          ]
        }
      ],
      "source": [
        "nd.printBetaEnergyMeV(Nucleus(A=210, Z=83))"
      ]
    },
    {
      "cell_type": "code",
      "execution_count": 40,
      "id": "8Aq1dOlJUvG3",
      "metadata": {
        "id": "8Aq1dOlJUvG3",
        "outputId": "20a4dcfc-95bf-4a5a-b060-d7de7af816ff"
      },
      "outputs": [
        {
          "name": "stdout",
          "output_type": "stream",
          "text": [
            "Beta Speed (m/s) =  2.8565e+08    \n"
          ]
        }
      ],
      "source": [
        "nd.printBetaSpeed(Nucleus(A=210, Z=83))"
      ]
    },
    {
      "cell_type": "markdown",
      "id": "QXtS8hZ-UvG3",
      "metadata": {
        "id": "QXtS8hZ-UvG3"
      },
      "source": [
        "I have not documented all of the functions but the source can be found [Here](https://github.com/martynwheeler/MartynsBinders/blob/main/Nuclear/NuclearData.py).  I will add some more documentation when I have time."
      ]
    },
    {
      "cell_type": "markdown",
      "id": "qFZW8zQhUvG4",
      "metadata": {
        "id": "qFZW8zQhUvG4"
      },
      "source": [
        "## Fission Reaction Example\n",
        "\n",
        "Induced fission of Uranium-235 into Krypton-90 + Barium-144 and two neutrons\n",
        "\n",
        "First, do it with atomic masses:"
      ]
    },
    {
      "cell_type": "code",
      "execution_count": 41,
      "id": "BFSv_QGAUvG4",
      "metadata": {
        "id": "BFSv_QGAUvG4",
        "outputId": "77ba59b8-5dea-4704-a38d-8b1bb93021a2"
      },
      "outputs": [
        {
          "data": {
            "text/plain": [
              "-172.4603895444459"
            ]
          },
          "execution_count": 41,
          "metadata": {},
          "output_type": "execute_result"
        }
      ],
      "source": [
        "parentNuc = Nucleus(A=238,Z=92)\n",
        "daughterNuc1 = Nucleus(A=95,Z=38)\n",
        "daughterNuc2 = Nucleus(A=140,Z=54)\n",
        "nd.getFissionEnergyReleaseMEV(parentNuc, daughterNuc1, daughterNuc2)"
      ]
    },
    {
      "cell_type": "markdown",
      "id": "6qr0tdMwUvG5",
      "metadata": {
        "id": "6qr0tdMwUvG5"
      },
      "source": [
        "## Fusion Reaction Example\n",
        "\n",
        "Induced fusion of four protons to form Helium-4 "
      ]
    },
    {
      "cell_type": "code",
      "execution_count": 42,
      "id": "DjtlEwHYUvG5",
      "metadata": {
        "id": "DjtlEwHYUvG5",
        "outputId": "2bfabdf4-57e7-4461-f3da-bdc937d4fcaf"
      },
      "outputs": [
        {
          "data": {
            "text/plain": [
              "-26.5258287506647"
            ]
          },
          "execution_count": 42,
          "metadata": {},
          "output_type": "execute_result"
        }
      ],
      "source": [
        "reactants = [Nucleus(A=1,Z=1),Nucleus(A=1,Z=1),Nucleus(A=1,Z=1), Nucleus(A=1,Z=1), Nucleus(A=0,Z=-1), Nucleus(A=0,Z=-1)]\n",
        "products = [Nucleus(A=4, Z=2)]\n",
        "nd.getFusionEnergyReleaseMEV(reactants, products)"
      ]
    }
  ],
  "metadata": {
    "colab": {
      "name": "NuclearData.ipynb",
      "provenance": []
    },
    "kernelspec": {
      "display_name": "Python 3.8.6 64-bit",
      "metadata": {
        "interpreter": {
          "hash": "31f2aee4e71d21fbe5cf8b01ff0e069b9275f58929596ceb00d14d90e3e16cd6"
        }
      },
      "name": "python3"
    },
    "language_info": {
      "codemirror_mode": {
        "name": "ipython",
        "version": 3
      },
      "file_extension": ".py",
      "mimetype": "text/x-python",
      "name": "python",
      "nbconvert_exporter": "python",
      "pygments_lexer": "ipython3",
      "version": "3.8.10"
    }
  },
  "nbformat": 4,
  "nbformat_minor": 5
}
