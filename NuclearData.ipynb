{
  "nbformat": 4,
  "nbformat_minor": 5,
  "metadata": {
    "kernelspec": {
      "display_name": "Python 3",
      "language": "python",
      "name": "python3"
    },
    "language_info": {
      "codemirror_mode": {
        "name": "ipython",
        "version": 3
      },
      "file_extension": ".py",
      "mimetype": "text/x-python",
      "name": "python",
      "nbconvert_exporter": "python",
      "pygments_lexer": "ipython3",
      "version": "3.8.5-final"
    },
    "colab": {
      "name": "NuclearData.ipynb",
      "provenance": [],
      "collapsed_sections": [],
      "include_colab_link": true
    }
  },
  "cells": [
    {
      "cell_type": "markdown",
      "metadata": {
        "id": "view-in-github",
        "colab_type": "text"
      },
      "source": [
        "<a href=\"https://colab.research.google.com/github/martynwheeler/MartynsBinders/blob/main/NuclearData.ipynb\" target=\"_parent\"><img src=\"https://colab.research.google.com/assets/colab-badge.svg\" alt=\"Open In Colab\"/></a>"
      ]
    },
    {
      "cell_type": "markdown",
      "metadata": {
        "id": "gzCn8emaPsoY"
      },
      "source": [
        "# Nuclear Calculations\n",
        "\n",
        "This notebook can be used for all types of nuclear calculations.  It uses the [AME2016](https://www-nds.iaea.org/amdc/) dataset for accurate mass values.\n",
        "\n",
        "## Getting started\n",
        "\n",
        "The first thing to do is to run the cell directly below this one to load the data from the server."
      ],
      "id": "gzCn8emaPsoY"
    },
    {
      "cell_type": "code",
      "metadata": {
        "colab": {
          "base_uri": "https://localhost:8080/"
        },
        "id": "O19Et503RMhB",
        "outputId": "ca185a2e-4331-457d-c466-20bb3939a002"
      },
      "source": [
        "from google.colab import drive\r\n",
        "drive.mount('/content/drive')\r\n",
        "\r\n"
      ],
      "id": "O19Et503RMhB",
      "execution_count": 1,
      "outputs": [
        {
          "output_type": "stream",
          "text": [
            "Drive already mounted at /content/drive; to attempt to forcibly remount, call drive.mount(\"/content/drive\", force_remount=True).\n"
          ],
          "name": "stdout"
        }
      ]
    },
    {
      "cell_type": "code",
      "metadata": {
        "id": "NEd6c77nSbTl"
      },
      "source": [
        "import sys\r\n",
        "sys.path.insert(0,'/content/drive/My Drive/Colab Notebooks')"
      ],
      "id": "NEd6c77nSbTl",
      "execution_count": 2,
      "outputs": []
    },
    {
      "cell_type": "code",
      "metadata": {
        "id": "small-embassy"
      },
      "source": [
        "from NuclearData import NuclearData\n",
        "nd = NuclearData(accurate=False)"
      ],
      "id": "small-embassy",
      "execution_count": 3,
      "outputs": []
    },
    {
      "cell_type": "markdown",
      "metadata": {
        "id": "QiJn6SOVPson"
      },
      "source": [
        "Now that the data is in the notebook you can use it to perform calcuations.  I have used the physical constants in the [OCR Physics A databook](https://www.ocr.org.uk/Images/363796-units-h156-and-h556-data-formulae-and-relationships-booklet.pdf).  However, if you want to be super accurate you can rerun the cell above with the option:  \n",
        "\n",
        "```\n",
        "nd = NuclearData(accurate=True)\n",
        "```\n",
        "\n",
        "You can see the constants at any time by running the cell below."
      ],
      "id": "QiJn6SOVPson"
    },
    {
      "cell_type": "code",
      "metadata": {
        "id": "rA_J21IZPson",
        "colab": {
          "base_uri": "https://localhost:8080/"
        },
        "outputId": "9b1eb903-f599-4f86-e31a-bfabb262cb80"
      },
      "source": [
        "nd.printConstants()"
      ],
      "id": "rA_J21IZPson",
      "execution_count": 4,
      "outputs": [
        {
          "output_type": "stream",
          "text": [
            "----------------------------------------------------\n",
            "Quantity                            Value         \n",
            "----------------------------------------------------\n",
            "AMU                                 1.661e-27     \n",
            "mass of electron /u                 5.485e-04     \n",
            "mass of proton / u                  1.0072        \n",
            "mass of neutron / u                 1.0084        \n",
            "speed of light / m/s                3.00e+08      \n",
            "electron charge / C                 1.60e-19      \n",
            "amu to MeV                          934.313       \n",
            "----------------------------------------------------\n"
          ],
          "name": "stdout"
        }
      ]
    },
    {
      "cell_type": "markdown",
      "metadata": {
        "id": "qmdHpEBDPsoo"
      },
      "source": [
        "## Getting nuclear data\n",
        "\n",
        "To see the data for a particular atom just enter the A and Z values as in the next cell and press run. "
      ],
      "id": "qmdHpEBDPsoo"
    },
    {
      "cell_type": "code",
      "metadata": {
        "id": "rhK0AJFjPsop",
        "colab": {
          "base_uri": "https://localhost:8080/"
        },
        "outputId": "baf888b3-b3c5-4f8b-d249-cb885727afc7"
      },
      "source": [
        "nd.printTable(A=4, Z=2)"
      ],
      "id": "rhK0AJFjPsop",
      "execution_count": 5,
      "outputs": [
        {
          "output_type": "stream",
          "text": [
            "----------------------------------------------------\n",
            "Quantity                            Value         \n",
            "----------------------------------------------------\n",
            "Element                             He            \n",
            "Proton Number                       2             \n",
            "Nucleon Number                      4             \n",
            "Neutron Number                      2             \n",
            "Atomic Mass / u                     4.00260325    \n",
            "Nuclear Mass / u                    4.00150625    \n",
            "Mass Defect / u                     0.02969375    \n",
            "Binding Energy / MeV                27.74323794   \n",
            "Binding Energy per Nucleon / MeV    6.93580948    \n",
            "----------------------------------------------------\n"
          ],
          "name": "stdout"
        }
      ]
    },
    {
      "cell_type": "markdown",
      "metadata": {
        "id": "2jVJniU7Psop"
      },
      "source": [
        "You can show the binding energy per nucleon from the data set and the total binding energy."
      ],
      "id": "2jVJniU7Psop"
    },
    {
      "cell_type": "code",
      "metadata": {
        "id": "4eT7I88aPsoq",
        "colab": {
          "base_uri": "https://localhost:8080/",
          "height": 281
        },
        "outputId": "a85a5cf5-b619-4c83-a045-b1a0f218cef5"
      },
      "source": [
        "nd.printGraph()"
      ],
      "id": "4eT7I88aPsoq",
      "execution_count": 6,
      "outputs": [
        {
          "output_type": "display_data",
          "data": {
            "image/png": "[encoded data removed]",
            "text/plain": [
              "<Figure size 432x288 with 2 Axes>"
            ]
          },
          "metadata": {
            "tags": [],
            "needs_background": "light"
          }
        }
      ]
    },
    {
      "cell_type": "markdown",
      "metadata": {
        "id": "h3ad8OmePsoq"
      },
      "source": [
        "Here's some more data, this time for Thorium-228"
      ],
      "id": "h3ad8OmePsoq"
    },
    {
      "cell_type": "code",
      "metadata": {
        "id": "7ox21zPIPsor",
        "colab": {
          "base_uri": "https://localhost:8080/"
        },
        "outputId": "60d86e49-2ac8-444f-a457-cdf506f87791"
      },
      "source": [
        "nd.printTable(A=228, Z=90)"
      ],
      "id": "7ox21zPIPsor",
      "execution_count": 7,
      "outputs": [
        {
          "output_type": "stream",
          "text": [
            "----------------------------------------------------\n",
            "Quantity                            Value         \n",
            "----------------------------------------------------\n",
            "Element                             Th            \n",
            "Proton Number                       90            \n",
            "Nucleon Number                      228           \n",
            "Neutron Number                      138           \n",
            "Atomic Mass / u                     228.02873984  \n",
            "Nuclear Mass / u                    227.97937484  \n",
            "Mass Defect / u                     1.82782517    \n",
            "Binding Energy / MeV                1707.75989947 \n",
            "Binding Energy per Nucleon / MeV    7.49017500    \n",
            "----------------------------------------------------\n"
          ],
          "name": "stdout"
        }
      ]
    },
    {
      "cell_type": "markdown",
      "metadata": {
        "id": "zYYFtJ5FPsor"
      },
      "source": [
        "## Nuclear decay energies\n",
        "\n",
        "You can also calculate alpha and beta decay energies.  Here's the energy released by the decay of Thorium-228 and Bismuth-210."
      ],
      "id": "zYYFtJ5FPsor"
    },
    {
      "cell_type": "code",
      "metadata": {
        "id": "W34UzxvkPsor",
        "colab": {
          "base_uri": "https://localhost:8080/"
        },
        "outputId": "78cdb58f-c494-4546-c6e6-c726b82b494f"
      },
      "source": [
        "nd.printAlphaEnergyReleaseMeV(A=228, Z=90)"
      ],
      "id": "W34UzxvkPsor",
      "execution_count": 8,
      "outputs": [
        {
          "output_type": "stream",
          "text": [
            "Energy Release (MeV) = -5.5369       \n"
          ],
          "name": "stdout"
        }
      ]
    },
    {
      "cell_type": "code",
      "metadata": {
        "id": "URb0RaGYPsos",
        "colab": {
          "base_uri": "https://localhost:8080/"
        },
        "outputId": "129eb0c6-d5eb-42d9-ffdd-ab7aff9dac0e"
      },
      "source": [
        "nd.printBetaEnergyReleaseMeV(A=210, Z=83)"
      ],
      "id": "URb0RaGYPsos",
      "execution_count": 9,
      "outputs": [
        {
          "output_type": "stream",
          "text": [
            "Energy Release (MeV) = -1.1647       \n"
          ],
          "name": "stdout"
        }
      ]
    },
    {
      "cell_type": "markdown",
      "metadata": {
        "id": "vJvXifGWPsos"
      },
      "source": [
        "It will calculate the alpha particle energy and speed too."
      ],
      "id": "vJvXifGWPsos"
    },
    {
      "cell_type": "code",
      "metadata": {
        "id": "i8J5ynVRPsos",
        "colab": {
          "base_uri": "https://localhost:8080/"
        },
        "outputId": "7c9123c7-d203-4971-fcf8-d4a8eb888150"
      },
      "source": [
        "nd.printAlphaEnergyMeV(A=228, Z=90)"
      ],
      "id": "i8J5ynVRPsos",
      "execution_count": 10,
      "outputs": [
        {
          "output_type": "stream",
          "text": [
            "Alpha KE (MeV) = 5.4397        \n"
          ],
          "name": "stdout"
        }
      ]
    },
    {
      "cell_type": "code",
      "metadata": {
        "id": "Pd_6khQIPsot",
        "colab": {
          "base_uri": "https://localhost:8080/"
        },
        "outputId": "600d9aba-adb4-44e7-b63e-6495bba7140d"
      },
      "source": [
        "nd.printAlphaEnergyJ(A=228, Z=90)"
      ],
      "id": "Pd_6khQIPsot",
      "execution_count": 11,
      "outputs": [
        {
          "output_type": "stream",
          "text": [
            "Alpha KE (J) = 8.7035e-13    \n"
          ],
          "name": "stdout"
        }
      ]
    },
    {
      "cell_type": "code",
      "metadata": {
        "id": "MgE2QtZxPsot",
        "colab": {
          "base_uri": "https://localhost:8080/"
        },
        "outputId": "d5c0dc44-e5bc-470d-adaa-3e8a22e1575d"
      },
      "source": [
        "nd.printAlphaSpeed(A=228, Z=90)"
      ],
      "id": "MgE2QtZxPsot",
      "execution_count": 12,
      "outputs": [
        {
          "output_type": "stream",
          "text": [
            "Alpha Speed (m/s) = 1.6183e+07    \n"
          ],
          "name": "stdout"
        }
      ]
    },
    {
      "cell_type": "markdown",
      "metadata": {
        "id": "t6R7a42NPsot"
      },
      "source": [
        "For beta particles the speed has to be calculated from relativistic equations, so this might not be one to get pupils to do.\n"
      ],
      "id": "t6R7a42NPsot"
    },
    {
      "cell_type": "code",
      "metadata": {
        "id": "l0vKapFjPsou",
        "colab": {
          "base_uri": "https://localhost:8080/"
        },
        "outputId": "7cfd9374-546c-4486-f0f8-5004c6ee3a66"
      },
      "source": [
        "nd.printBetaEnergyMeV(A=210, Z=83)"
      ],
      "id": "l0vKapFjPsou",
      "execution_count": 13,
      "outputs": [
        {
          "output_type": "stream",
          "text": [
            "Beta KE (MeV) =  1.1647        \n"
          ],
          "name": "stdout"
        }
      ]
    },
    {
      "cell_type": "code",
      "metadata": {
        "id": "ePwwZXhcPsou",
        "colab": {
          "base_uri": "https://localhost:8080/"
        },
        "outputId": "9bed8fbf-a730-4977-e99b-1139a32fbc36"
      },
      "source": [
        "nd.printBetaSpeed(A=210, Z=83)"
      ],
      "id": "ePwwZXhcPsou",
      "execution_count": 14,
      "outputs": [
        {
          "output_type": "stream",
          "text": [
            "Beta Speed (m/s) =  2.8565e+08    \n"
          ],
          "name": "stdout"
        }
      ]
    },
    {
      "cell_type": "markdown",
      "metadata": {
        "id": "Z1DU62bSPsou"
      },
      "source": [
        "I have not documented all of the functions but the source can be found [Here](https://github.com/martynwheeler/MartynsBinders/blob/main/Nuclear/NuclearData.py).  I will add some more documentation when I have time."
      ],
      "id": "Z1DU62bSPsou"
    },
    {
      "cell_type": "markdown",
      "metadata": {
        "id": "wrvEmnyiPsou"
      },
      "source": [
        "## Fission Reaction Example\n",
        "\n",
        "Induced fission of Uranium-235 into Krypton-90 + Barium-144 and two neutrons\n",
        "\n",
        "First, do it with atomic masses:"
      ],
      "id": "wrvEmnyiPsou"
    },
    {
      "cell_type": "code",
      "metadata": {
        "id": "27q5gStTPsov",
        "colab": {
          "base_uri": "https://localhost:8080/"
        },
        "outputId": "7a09f4a6-e478-49b1-e042-55e9fd21d22f"
      },
      "source": [
        "deltam = (nd.getAtomicMassAMU(90,36) + nd.getAtomicMassAMU(144,56) + 2 * nd.NEUTRONMASS) - (nd.getAtomicMassAMU(235,92) + nd.NEUTRONMASS)\n",
        "deltam * nd.AMUTOKEV / 1000"
      ],
      "id": "27q5gStTPsov",
      "execution_count": 15,
      "outputs": [
        {
          "output_type": "execute_result",
          "data": {
            "text/plain": [
              "-180.36476672568963"
            ]
          },
          "metadata": {
            "tags": []
          },
          "execution_count": 15
        }
      ]
    },
    {
      "cell_type": "markdown",
      "metadata": {
        "id": "Z5at0LNVPsov"
      },
      "source": [
        "Now with binding energies:"
      ],
      "id": "Z5at0LNVPsov"
    },
    {
      "cell_type": "code",
      "metadata": {
        "id": "anPzaN4mPsov",
        "colab": {
          "base_uri": "https://localhost:8080/"
        },
        "outputId": "1a16850f-9e4b-4e4e-cd31-581285bef62c"
      },
      "source": [
        "nd.getBindingEnergyMEV(235,92) - (nd.getBindingEnergyMEV(90,36) + nd.getBindingEnergyMEV(144,56))\n"
      ],
      "id": "anPzaN4mPsov",
      "execution_count": 16,
      "outputs": [
        {
          "output_type": "execute_result",
          "data": {
            "text/plain": [
              "-180.36476672566323"
            ]
          },
          "metadata": {
            "tags": []
          },
          "execution_count": 16
        }
      ]
    },
    {
      "cell_type": "markdown",
      "metadata": {
        "id": "er6FDpplPsow"
      },
      "source": [
        "## Fusion Reaction Example\n",
        "\n",
        "Induced fusion of four protons to form Helium-4 "
      ],
      "id": "er6FDpplPsow"
    },
    {
      "cell_type": "code",
      "metadata": {
        "id": "B6m0HlhnPsow",
        "colab": {
          "base_uri": "https://localhost:8080/"
        },
        "outputId": "ade3a53e-22ae-4046-a9c3-0fea794d2a0d"
      },
      "source": [
        "deltam = (nd.getNuclearMassAMU(4,2) + 2 * nd.ELECTRONMASS) - (4 * nd.PROTONMASS)\n",
        "deltam * nd.AMUTOKEV / 1000"
      ],
      "id": "B6m0HlhnPsow",
      "execution_count": 17,
      "outputs": [
        {
          "output_type": "execute_result",
          "data": {
            "text/plain": [
              "-24.475947125664465"
            ]
          },
          "metadata": {
            "tags": []
          },
          "execution_count": 17
        }
      ]
    },
    {
      "cell_type": "code",
      "metadata": {
        "colab": {
          "base_uri": "https://localhost:8080/"
        },
        "id": "s4cvMviLP_z0",
        "outputId": "6899ccd7-37d4-4e92-e0a0-dd7135805262"
      },
      "source": [
        "nd.printTable(A=229, Z=88)"
      ],
      "id": "s4cvMviLP_z0",
      "execution_count": 18,
      "outputs": [
        {
          "output_type": "stream",
          "text": [
            "----------------------------------------------------\n",
            "Quantity                            Value         \n",
            "----------------------------------------------------\n",
            "Element                             Ra            \n",
            "Proton Number                       88            \n",
            "Nucleon Number                      229           \n",
            "Neutron Number                      141           \n",
            "Atomic Mass / u                     229.03495671  \n",
            "Nuclear Mass / u                    228.98668871  \n",
            "Mass Defect / u                     1.83131129    \n",
            "Binding Energy / MeV                1711.01703244 \n",
            "Binding Energy per Nucleon / MeV    7.47169010    \n",
            "----------------------------------------------------\n"
          ],
          "name": "stdout"
        }
      ]
    }
  ]
}